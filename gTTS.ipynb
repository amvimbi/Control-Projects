{
 "cells": [
  {
   "cell_type": "code",
   "execution_count": 2,
   "metadata": {},
   "outputs": [
    {
     "name": "stdout",
     "output_type": "stream",
     "text": [
      "Collecting gtts\n",
      "  Using cached gTTS-2.2.3-py3-none-any.whl (25 kB)\n",
      "Requirement already satisfied: requests in c:\\conda\\envs\\tensorflow\\lib\\site-packages (from gtts) (2.25.1)\n",
      "Requirement already satisfied: click in c:\\conda\\envs\\tensorflow\\lib\\site-packages (from gtts) (8.0.1)\n",
      "Requirement already satisfied: six in c:\\conda\\envs\\tensorflow\\lib\\site-packages (from gtts) (1.16.0)\n",
      "Requirement already satisfied: colorama in c:\\conda\\envs\\tensorflow\\lib\\site-packages (from click->gtts) (0.4.4)\n",
      "Requirement already satisfied: certifi>=2017.4.17 in c:\\conda\\envs\\tensorflow\\lib\\site-packages (from requests->gtts) (2021.5.30)\n",
      "Requirement already satisfied: idna<3,>=2.5 in c:\\conda\\envs\\tensorflow\\lib\\site-packages (from requests->gtts) (2.10)\n",
      "Requirement already satisfied: urllib3<1.27,>=1.21.1 in c:\\conda\\envs\\tensorflow\\lib\\site-packages (from requests->gtts) (1.26.6)\n",
      "Requirement already satisfied: chardet<5,>=3.0.2 in c:\\conda\\envs\\tensorflow\\lib\\site-packages (from requests->gtts) (3.0.4)\n",
      "Installing collected packages: gtts\n",
      "Successfully installed gtts-2.2.3\n"
     ]
    }
   ],
   "source": [
    "from gtts import gTTS\n",
    "#The above module can covert text to speech and play audio\n",
    "import os\n",
    "#The text\n",
    "mytext = \"Welcome to the University of Cape Town\"\n",
    "#language\n",
    "language = 'en'\n",
    "#passing the text and language\n",
    "myobj = gTTS(text =mytext, lang = language, slow = False)\n",
    "#saving the audio\n",
    "myobj.save(\"Welcome.mp3\")"
   ]
  },
  {
   "cell_type": "code",
   "execution_count": null,
   "metadata": {},
   "outputs": [],
   "source": []
  }
 ],
 "metadata": {
  "kernelspec": {
   "display_name": "Python 3",
   "language": "python",
   "name": "python3"
  },
  "language_info": {
   "codemirror_mode": {
    "name": "ipython",
    "version": 3
   },
   "file_extension": ".py",
   "mimetype": "text/x-python",
   "name": "python",
   "nbconvert_exporter": "python",
   "pygments_lexer": "ipython3",
   "version": "3.8.10"
  }
 },
 "nbformat": 4,
 "nbformat_minor": 4
}
